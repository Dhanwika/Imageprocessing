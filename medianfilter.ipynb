{
 "cells": [
  {
   "cell_type": "code",
   "execution_count": 3,
   "id": "88ebfd96",
   "metadata": {},
   "outputs": [],
   "source": [
    "# Median Spatial Domain Filtering\n",
    "\n",
    "\n",
    "import cv2\n",
    "import numpy as np\n",
    "\n",
    "\n",
    "# Read the image\n",
    "img_noisy1 = cv2.imread('image11.jpg', 0)\n",
    "\n",
    "# Obtain the number of rows and columns\n",
    "# of the image\n",
    "m, n = img_noisy1.shape\n",
    "\n",
    "# Traverse the image. For every 3X3 area,\n",
    "# find the median of the pixels and\n",
    "# replace the center pixel by the median\n",
    "img_new1 = np.zeros([m, n])\n",
    "\n",
    "for i in range(1, m-1):\n",
    "    for j in range(1, n-1):\n",
    "        temp = [img_noisy1[i-1, j-1],\n",
    "            img_noisy1[i-1, j],\n",
    "            img_noisy1[i-1, j + 1],\n",
    "            img_noisy1[i, j-1],\n",
    "            img_noisy1[i, j],\n",
    "            img_noisy1[i, j + 1],\n",
    "            img_noisy1[i + 1, j-1],\n",
    "            img_noisy1[i + 1, j],\n",
    "            img_noisy1[i + 1, j + 1]]\n",
    "\n",
    "        temp = sorted(temp)\n",
    "        img_new1[i, j]= temp[4]\n",
    "\n",
    "img_new1 = img_new1.astype(np.uint8)\n",
    "cv2.imwrite('new_median_filtered.png', img_new1)\n",
    "cv2.imshow('Median filter',img_new1)\n",
    "cv2.waitKey()\n",
    "cv2.destroyAllWindows()"
   ]
  },
  {
   "cell_type": "code",
   "execution_count": null,
   "id": "e5a32d32",
   "metadata": {},
   "outputs": [],
   "source": []
  }
 ],
 "metadata": {
  "kernelspec": {
   "display_name": "Python 3 (ipykernel)",
   "language": "python",
   "name": "python3"
  },
  "language_info": {
   "codemirror_mode": {
    "name": "ipython",
    "version": 3
   },
   "file_extension": ".py",
   "mimetype": "text/x-python",
   "name": "python",
   "nbconvert_exporter": "python",
   "pygments_lexer": "ipython3",
   "version": "3.9.7"
  }
 },
 "nbformat": 4,
 "nbformat_minor": 5
}
