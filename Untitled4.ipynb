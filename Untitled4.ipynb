{
 "cells": [
  {
   "cell_type": "code",
   "execution_count": null,
   "id": "0453b8ad",
   "metadata": {},
   "outputs": [],
   "source": [
    "import cv2\n",
    "img = cv2.imread('img10.jfif')\n",
    "img_cw_180 = cv2.rotate(img, cv2.ROTATE_180)\n",
    "cv2.imshow(\"Image rotated by 180 degree\", img_cw_180)\n",
    "cv2.waitKey(0)\n",
    "cv2.destroyAllWindows()"
   ]
  },
  {
   "cell_type": "code",
   "execution_count": null,
   "id": "2e02cd23",
   "metadata": {},
   "outputs": [],
   "source": [
    "import cv2\n",
    "img = cv2.imread('img10.jfif')\n",
    "img_cw_90 = cv2.rotate(img, cv2.ROTATE_90_CLOCKWISE)\n",
    "cv2.imshow(\"Image rotated by 90 degree\", img_cw_90)\n",
    "cv2.waitKey(0)\n",
    "cv2.destroyAllWindows()"
   ]
  },
  {
   "cell_type": "code",
   "execution_count": null,
   "id": "f9a39055",
   "metadata": {},
   "outputs": [],
   "source": [
    "import cv2\n",
    "img = cv2.imread('img10.jfif')\n",
    "img_cw_90 = cv2.rotate(img, cv2.ROTATE_90_COUNTERCLOCKWISE)\n",
    "cv2.imshow(\"Image rotated by 90 degree\", img_cw_90)\n",
    "cv2.waitKey(0)\n",
    "cv2.destroyAllWindows()"
   ]
  },
  {
   "cell_type": "code",
   "execution_count": null,
   "id": "9dad3c57",
   "metadata": {},
   "outputs": [],
   "source": [
    "from PIL import Image\n",
    "Original_Image = Image.open(\"img10.jfif\")\n",
    "rotated_image1 = Original_Image.rotate(180)\n",
    "rotated_image2 = Original_Image.rotate(90)\n",
    "rotated_image3 = Original_Image.rotate(60)\n",
    "rotated_image4 = Original_Image.rotate(270)\n",
    "rotated_image5 = Original_Image.rotate(45)\n",
    "rotated_image1.show()\n",
    "rotated_image2.show()\n",
    "rotated_image3.show()\n",
    "rotated_image4.show()\n",
    "rotated_image5.show()"
   ]
  },
  {
   "cell_type": "code",
   "execution_count": null,
   "id": "2daa2521",
   "metadata": {},
   "outputs": [],
   "source": [
    "import cv2\n",
    "import matplotlib.pyplot as plt\n",
    "img = cv2.imread('img10.jfif') \n",
    "plt.imshow(img)"
   ]
  },
  {
   "cell_type": "code",
   "execution_count": null,
   "id": "e9c2edff",
   "metadata": {},
   "outputs": [],
   "source": [
    "import cv2\n",
    "import matplotlib.pyplot as plt\n",
    "img = cv2.imread('img10.jfif') \n",
    "plt.imshow(img)\n",
    "new_size = (550, 750)\n",
    "resize_img = cv2.resize(img, new_size)\n",
    "resize_img = cv2.resize(img,(0, 0),fx=2.5, fy=1.7, interpolation = cv2.INTER_LINEAR)\n",
    "plt.imshow(resize_img)"
   ]
  },
  {
   "cell_type": "code",
   "execution_count": null,
   "id": "c40f00cf",
   "metadata": {},
   "outputs": [],
   "source": [
    "from PIL import Image\n",
    "filepath='img10.jfif'\n",
    "img=Image.open(filepath)\n",
    "width=100\n",
    "height=100\n",
    "new=img.resize((width,height))\n",
    "new"
   ]
  },
  {
   "cell_type": "code",
   "execution_count": null,
   "id": "1adc7bff",
   "metadata": {},
   "outputs": [],
   "source": [
    "from PIL import Image\n",
    "filepath='img10.jfif'\n",
    "img=Image.open(filepath)\n",
    "new=img.resize((50,50))\n",
    "new"
   ]
  },
  {
   "cell_type": "code",
   "execution_count": null,
   "id": "402e4ad0",
   "metadata": {},
   "outputs": [],
   "source": [
    "import os\n",
    "path='C:/Users/User/Downloads/dhanwika'\n",
    "dir_list=os.listdir(path)\n",
    "print('files in directory',dir_list)\n",
    "for images in dir_list:\n",
    "    if(images.endswith('jfif')):\n",
    "        print(images)   "
   ]
  },
  {
   "cell_type": "code",
   "execution_count": null,
   "id": "ca8c45cb",
   "metadata": {},
   "outputs": [],
   "source": [
    "import os\n",
    "from os import listdir\n",
    "folder_dir = \"C:/Users/User/Downloads/dhanwika\"\n",
    "for images in os.listdir(folder_dir):\n",
    "    if (images.endswith(\".png\")):\n",
    "        print(images)"
   ]
  },
  {
   "cell_type": "code",
   "execution_count": null,
   "id": "ad458370",
   "metadata": {},
   "outputs": [],
   "source": [
    "import cv2\n",
    "import glob\n",
    "import os\n",
    "from os import listdir\n",
    "#put your own folder in the bracket eg. (“myfile/*jpg”)\n",
    "path = glob.glob(\"C:/Users/User/Downloads/dhanwika/*.*\")\n",
    "for file in path:\n",
    "    img = cv2.imread(file)\n",
    "    cv2.imshow(\"img\", img)\n",
    "    cv2.waitKey(1000)\n",
    "    cv2.destroyAllWindows()"
   ]
  },
  {
   "cell_type": "code",
   "execution_count": null,
   "id": "25880218",
   "metadata": {},
   "outputs": [],
   "source": [
    "from PIL import Image\n",
    "filepath='img10.jfif'\n",
    "img=Image.open(filepath)\n",
    "width=100\n",
    "height=100\n",
    "new=img.resize((width,height))\n",
    "new"
   ]
  },
  {
   "cell_type": "code",
   "execution_count": null,
   "id": "20f990c8",
   "metadata": {},
   "outputs": [],
   "source": [
    "import os\n",
    "import cv2\n",
    "import glob\n",
    "path = glob.glob(\"C:/Users/User/Downloads/dhanwika/*.*\")\n",
    "for image in path:\n",
    "    img = cv2.imread(image)\n",
    "    cv2.imshow(\"img\",img)"
   ]
  },
  {
   "cell_type": "code",
   "execution_count": 15,
   "id": "df7d5e44",
   "metadata": {},
   "outputs": [],
   "source": [
    "import PIL\n",
    "import os\n",
    "import os.path\n",
    "from PIL import Image\n",
    "f = 'C:/Users/User/Downloads/dhanwika'\n",
    "for file in os.listdir(f):\n",
    "    f_img = f+\"/\"+file\n",
    "    img = Image.open(f_img)\n",
    "    img = img.resize((229,172))\n",
    "    f_img"
   ]
  },
  {
   "cell_type": "code",
   "execution_count": null,
   "id": "3d222596",
   "metadata": {},
   "outputs": [],
   "source": []
  }
 ],
 "metadata": {
  "kernelspec": {
   "display_name": "Python 3 (ipykernel)",
   "language": "python",
   "name": "python3"
  },
  "language_info": {
   "codemirror_mode": {
    "name": "ipython",
    "version": 3
   },
   "file_extension": ".py",
   "mimetype": "text/x-python",
   "name": "python",
   "nbconvert_exporter": "python",
   "pygments_lexer": "ipython3",
   "version": "3.9.7"
  }
 },
 "nbformat": 4,
 "nbformat_minor": 5
}
