{
 "cells": [
  {
   "cell_type": "code",
   "execution_count": 22,
   "id": "ac9ec6af",
   "metadata": {},
   "outputs": [],
   "source": [
    "#haar cascading for human face image\n",
    "import numpy as np\n",
    "import cv2\n",
    "face_detector=cv2.CascadeClassifier('face.xml')\n",
    "eye_detector = cv2.CascadeClassifier('eye.xml')\n",
    "img = cv2.imread('face.jfif')\n",
    "gray = cv2.cvtColor(img, cv2.COLOR_BGR2GRAY)\n",
    "faces_result = face_detector.detectMultiScale(gray, 1.3, 5)\n",
    "for (x,y,w,h) in faces_result:\n",
    "    img = cv2.rectangle(img,(x,y),(x+w,y+h),(255,0,0),2)\n",
    "    roi_gray = gray[y:y+h, x:x+w]\n",
    "    roi_color = img[y:y+h, x:x+w]\n",
    "    eyes = eye_detector.detectMultiScale(roi_gray)\n",
    "for (ex,ey,ew,eh) in eyes:\n",
    "    cv2.rectangle(roi_color,(ex,ey),(ex+ew,ey+eh),(0,255,0),2)\n",
    "cv2.imshow('img',img)\n",
    "cv2.waitKey(0)\n",
    "cv2.destroyAllWindows()"
   ]
  },
  {
   "cell_type": "code",
   "execution_count": 23,
   "id": "7cea54ca",
   "metadata": {},
   "outputs": [],
   "source": [
    "#haar cascading for animated face image\n",
    "import numpy as np\n",
    "import cv2\n",
    "face_detector=cv2.CascadeClassifier('face.xml')\n",
    "eye_detector = cv2.CascadeClassifier('eye.xml')\n",
    "img = cv2.imread('face2.png')\n",
    "gray = cv2.cvtColor(img, cv2.COLOR_BGR2GRAY)\n",
    "faces_result = face_detector.detectMultiScale(gray, 1.3, 5)\n",
    "for (x,y,w,h) in faces_result:\n",
    "    img = cv2.rectangle(img,(x,y),(x+w,y+h),(255,0,0),2)\n",
    "    roi_gray = gray[y:y+h, x:x+w]\n",
    "    roi_color = img[y:y+h, x:x+w]\n",
    "    eyes = eye_detector.detectMultiScale(roi_gray)\n",
    "for (ex,ey,ew,eh) in eyes:\n",
    "    cv2.rectangle(roi_color,(ex,ey),(ex+ew,ey+eh),(0,255,0),2)\n",
    "cv2.imshow('img',img)\n",
    "cv2.waitKey(0)\n",
    "cv2.destroyAllWindows()"
   ]
  },
  {
   "cell_type": "code",
   "execution_count": 24,
   "id": "9d7ed2f6",
   "metadata": {},
   "outputs": [],
   "source": [
    "#haar cascading for face image with sunglasses\n",
    "import numpy as np\n",
    "import cv2\n",
    "face_detector=cv2.CascadeClassifier('face.xml')\n",
    "eye_detector = cv2.CascadeClassifier('eye.xml')\n",
    "img = cv2.imread('sunglasses.png')\n",
    "gray = cv2.cvtColor(img, cv2.COLOR_BGR2GRAY)\n",
    "faces_result = face_detector.detectMultiScale(gray, 1.3, 5)\n",
    "for (x,y,w,h) in faces_result:\n",
    "    img = cv2.rectangle(img,(x,y),(x+w,y+h),(255,0,0),2)\n",
    "    roi_gray = gray[y:y+h, x:x+w]\n",
    "    roi_color = img[y:y+h, x:x+w]\n",
    "    eyes = eye_detector.detectMultiScale(roi_gray)\n",
    "for (ex,ey,ew,eh) in eyes:\n",
    "    cv2.rectangle(roi_color,(ex,ey),(ex+ew,ey+eh),(0,255,0),2)\n",
    "cv2.imshow('img',img)\n",
    "cv2.waitKey(0)\n",
    "cv2.destroyAllWindows()"
   ]
  },
  {
   "cell_type": "code",
   "execution_count": 25,
   "id": "6020b5ce",
   "metadata": {},
   "outputs": [],
   "source": [
    "#haar cascading for face image with mask\n",
    "import numpy as np\n",
    "import cv2\n",
    "face_detector=cv2.CascadeClassifier('face.xml')\n",
    "eye_detector = cv2.CascadeClassifier('eye.xml')\n",
    "img = cv2.imread('mask.png')\n",
    "gray = cv2.cvtColor(img, cv2.COLOR_BGR2GRAY)\n",
    "faces_result = face_detector.detectMultiScale(gray, 1.3, 5)\n",
    "for (x,y,w,h) in faces_result:\n",
    "    img = cv2.rectangle(img,(x,y),(x+w,y+h),(255,0,0),2)\n",
    "    roi_gray = gray[y:y+h, x:x+w]\n",
    "    roi_color = img[y:y+h, x:x+w]\n",
    "    eyes = eye_detector.detectMultiScale(roi_gray)\n",
    "for (ex,ey,ew,eh) in eyes:\n",
    "    cv2.rectangle(roi_color,(ex,ey),(ex+ew,ey+eh),(0,255,0),2)\n",
    "cv2.imshow('img',img)\n",
    "cv2.waitKey(0)\n",
    "cv2.destroyAllWindows()"
   ]
  },
  {
   "cell_type": "code",
   "execution_count": 29,
   "id": "bb86e33c",
   "metadata": {},
   "outputs": [],
   "source": [
    "#haar cascading for human face image with mask\n",
    "import numpy as np\n",
    "import cv2\n",
    "face_detector=cv2.CascadeClassifier('face.xml')\n",
    "eye_detector = cv2.CascadeClassifier('eye.xml')\n",
    "img = cv2.imread('maskhuman.png')\n",
    "gray = cv2.cvtColor(img, cv2.COLOR_BGR2GRAY)\n",
    "faces_result = face_detector.detectMultiScale(gray, 1.3, 5)\n",
    "for (x,y,w,h) in faces_result:\n",
    "    img = cv2.rectangle(img,(x,y),(x+w,y+h),(255,0,0),2)\n",
    "    roi_gray = gray[y:y+h, x:x+w]\n",
    "    roi_color = img[y:y+h, x:x+w]\n",
    "    eyes = eye_detector.detectMultiScale(roi_gray)\n",
    "for (ex,ey,ew,eh) in eyes:\n",
    "    cv2.rectangle(roi_color,(ex,ey),(ex+ew,ey+eh),(0,255,0),2)\n",
    "cv2.imshow('img',img)\n",
    "cv2.waitKey(0)\n",
    "cv2.destroyAllWindows()"
   ]
  },
  {
   "cell_type": "code",
   "execution_count": 28,
   "id": "e4cba937",
   "metadata": {},
   "outputs": [],
   "source": [
    "#haar cascading for human face image with mask\n",
    "import numpy as np\n",
    "import cv2\n",
    "face_detector=cv2.CascadeClassifier('face.xml')\n",
    "eye_detector = cv2.CascadeClassifier('eye.xml')\n",
    "img = cv2.imread('maskhuman2.jpg')\n",
    "gray = cv2.cvtColor(img, cv2.COLOR_BGR2GRAY)\n",
    "faces_result = face_detector.detectMultiScale(gray, 1.3, 5)\n",
    "for (x,y,w,h) in faces_result:\n",
    "    img = cv2.rectangle(img,(x,y),(x+w,y+h),(255,0,0),2)\n",
    "    roi_gray = gray[y:y+h, x:x+w]\n",
    "    roi_color = img[y:y+h, x:x+w]\n",
    "    eyes = eye_detector.detectMultiScale(roi_gray)\n",
    "for (ex,ey,ew,eh) in eyes:\n",
    "    cv2.rectangle(roi_color,(ex,ey),(ex+ew,ey+eh),(0,255,0),2)\n",
    "cv2.imshow('img',img)\n",
    "cv2.waitKey(0)\n",
    "cv2.destroyAllWindows()"
   ]
  },
  {
   "cell_type": "code",
   "execution_count": null,
   "id": "cd8a274d",
   "metadata": {},
   "outputs": [],
   "source": []
  }
 ],
 "metadata": {
  "kernelspec": {
   "display_name": "Python 3 (ipykernel)",
   "language": "python",
   "name": "python3"
  },
  "language_info": {
   "codemirror_mode": {
    "name": "ipython",
    "version": 3
   },
   "file_extension": ".py",
   "mimetype": "text/x-python",
   "name": "python",
   "nbconvert_exporter": "python",
   "pygments_lexer": "ipython3",
   "version": "3.9.7"
  }
 },
 "nbformat": 4,
 "nbformat_minor": 5
}
