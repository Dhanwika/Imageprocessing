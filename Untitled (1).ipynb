{
 "cells": [
  {
   "cell_type": "code",
   "execution_count": null,
   "id": "92342322",
   "metadata": {},
   "outputs": [],
   "source": [
    "n1=int(input(\"Enter first number:\"))\n",
    "n2=int(input(\"Enter second number:\"))\n",
    "n3=int(input(\"Enter third number:\"))\n",
    "if (n1>=n2) and (n1>=n3):\n",
    "    print(n1,\"is greater\")\n",
    "elif (n2>=n1) and (n2>=n3):\n",
    "    print(n2,\"is greater\")\n",
    "else:\n",
    "    print(n3,\"is greater\")\n",
    "    "
   ]
  },
  {
   "cell_type": "code",
   "execution_count": 9,
   "id": "cc16cf29",
   "metadata": {},
   "outputs": [
    {
     "name": "stdout",
     "output_type": "stream",
     "text": [
      "Enter number of rows: 5\n",
      "        * \n",
      "      * * * \n",
      "    * * * * * \n",
      "  * * * * * * * \n",
      "* * * * * * * * * \n"
     ]
    }
   ],
   "source": [
    "  rows = int(input(\"Enter number of rows: \"))\n",
    "\n",
    "k = 0\n",
    "\n",
    "for i in range(1, rows+1):\n",
    "    for space in range(1, (rows-i)+1):\n",
    "        print(end=\"  \")\n",
    "   \n",
    "    while k!=(2*i-1):\n",
    "        print(\"* \", end=\"\")\n",
    "        k += 1\n",
    "   \n",
    "    k = 0\n",
    "    print()"
   ]
  },
  {
   "cell_type": "code",
   "execution_count": 8,
   "id": "77754dfc",
   "metadata": {},
   "outputs": [
    {
     "name": "stdout",
     "output_type": "stream",
     "text": [
      "Enter the number of rows: 5\n",
      "* * * * *  \n",
      "* * * *  \n",
      "* * *  \n",
      "* *  \n",
      "*  \n",
      " \n"
     ]
    }
   ],
   "source": [
    "rows = int(input(\"Enter the number of rows: \"))  \n",
    "for i in range(rows + 1, 0, -1):    \n",
    "    for j in range(0, i - 1):  \n",
    "        print(\"*\", end=' ')  \n",
    "    print(\" \")  "
   ]
  },
  {
   "cell_type": "code",
   "execution_count": 7,
   "id": "d70900a8",
   "metadata": {},
   "outputs": [
    {
     "name": "stdout",
     "output_type": "stream",
     "text": [
      "    A \n",
      "   A B \n",
      "  A B C \n",
      " A B C D \n",
      "A B C D E \n"
     ]
    }
   ],
   "source": [
    "size=5\n",
    "for i in range(size):\n",
    "    for j in range(i,size-1):\n",
    "        print(\" \",end=\"\")\n",
    "    for k in range(i+1):\n",
    "        print(chr(65 + k),end=\" \")\n",
    "    print()"
   ]
  },
  {
   "cell_type": "code",
   "execution_count": 6,
   "id": "47fe3385",
   "metadata": {},
   "outputs": [
    {
     "name": "stdout",
     "output_type": "stream",
     "text": [
      "7 7 7 7 7 7 7 \r\n",
      "6 6 6 6 6 6 \r\n",
      "5 5 5 5 5 \r\n",
      "4 4 4 4 \r\n",
      "3 3 3 \r\n",
      "2 2 \r\n",
      "1 \r\n"
     ]
    }
   ],
   "source": [
    "n = 7\n",
    "for k in range(n, 0, -1):\n",
    "    digit = k\n",
    "    for m in range(0, k):\n",
    "        print(digit, end=' ')\n",
    "    print(\"\\r\")"
   ]
  },
  {
   "cell_type": "code",
   "execution_count": 5,
   "id": "a092229b",
   "metadata": {},
   "outputs": [
    {
     "name": "stdout",
     "output_type": "stream",
     "text": [
      "Enter the number of rows: 5\n",
      "5 5 5 5 5 \n",
      " 4 4 4 4 \n",
      "  3 3 3 \n",
      "   2 2 \n",
      "    1 \n"
     ]
    }
   ],
   "source": [
    "rows = int(input(\"Enter the number of rows: \"))  \n",
    "k = 0  \n",
    "\n",
    "# Reversed loop for downward inverted pattern  \n",
    "for i in range(rows, 0, -1):  \n",
    "    n = i \n",
    "    for j in range(0, rows-i):\n",
    "        print(end=\" \")\n",
    "    for j in range(0, i):  \n",
    "        # print reduced value in each new line  \n",
    "        print(n, end=' ')      \n",
    "    print()  "
   ]
  },
  {
   "cell_type": "code",
   "execution_count": 4,
   "id": "f35e27a8",
   "metadata": {},
   "outputs": [
    {
     "name": "stdout",
     "output_type": "stream",
     "text": [
      "Enter the number of rows: 4\n",
      "A B C D E \n",
      " A B C D \n",
      "  A B C \n",
      "   A B \n"
     ]
    }
   ],
   "source": [
    "rows = int(input(\"Enter the number of rows: \"))  \n",
    "k = 0  \n",
    "\n",
    "# Reversed loop for downward inverted pattern  \n",
    "for i in range(rows, 0, -1):  \n",
    "    n = i \n",
    "    for j in range(0, rows-i):\n",
    "        print(end=\" \")\n",
    "    for j in range(i+1):\n",
    "        print(chr(65 + j),end=\" \")   \n",
    "    print()  "
   ]
  },
  {
   "cell_type": "code",
   "execution_count": 3,
   "id": "b7e64d82",
   "metadata": {},
   "outputs": [
    {
     "name": "stdout",
     "output_type": "stream",
     "text": [
      "F F F F F F \n",
      "E E E E E \n",
      "D D D D \n",
      " C C C \n",
      "  B B \n",
      "   A \n"
     ]
    }
   ],
   "source": [
    "depth = 6\n",
    "for i in range(depth, 0, -1):\n",
    "    n = i\n",
    "    for j in range(0, rows-i):\n",
    "        print(end=\" \")\n",
    "    for j in range(0, i):\n",
    "        print(chr(64+i), end=' ')\n",
    "    print()"
   ]
  },
  {
   "cell_type": "code",
   "execution_count": 2,
   "id": "b68d790f",
   "metadata": {},
   "outputs": [
    {
     "name": "stdout",
     "output_type": "stream",
     "text": [
      "E E E E E E E E E \n",
      "  D D D D D D D \n",
      "    C C C C C \n",
      "      B B B \n",
      "        A \n"
     ]
    }
   ],
   "source": [
    "n=5\n",
    "for i in range(n):\n",
    "    for j in range(i):\n",
    "        print(\" \",end=\" \")\n",
    "    for j in range(2*(n-i)-1):\n",
    "        print(chr(69-i),end=\" \")\n",
    "    print()"
   ]
  },
  {
   "cell_type": "code",
   "execution_count": 1,
   "id": "c5b55710",
   "metadata": {},
   "outputs": [
    {
     "name": "stdout",
     "output_type": "stream",
     "text": [
      "Enter Diamond Number Pattern Rows = 4\n",
      "   1\n",
      "  123\n",
      " 12345\n",
      "1234567\n",
      " 12345\n",
      "  123\n",
      "   1\n"
     ]
    }
   ],
   "source": [
    "rows = int(input(\"Enter Diamond Number Pattern Rows = \"))\n",
    "for i in range(1, rows + 1):\n",
    "    for j in range(1, rows - i + 1):\n",
    "        print(end = ' ')\n",
    "    for k in range(1, (2 * i)):\n",
    "        print(k, end = '')\n",
    "    print()\n",
    "\n",
    "for i in range(rows - 1, 0, -1):\n",
    "    for j in range(1, (rows - i + 1)):\n",
    "        print(end = ' ')\n",
    "    for k in range(1, (2 * i)):\n",
    "        print(k, end = '')\n",
    "    print()"
   ]
  },
  {
   "cell_type": "code",
   "execution_count": null,
   "id": "978eec0f",
   "metadata": {},
   "outputs": [],
   "source": []
  }
 ],
 "metadata": {
  "kernelspec": {
   "display_name": "Python 3 (ipykernel)",
   "language": "python",
   "name": "python3"
  },
  "language_info": {
   "codemirror_mode": {
    "name": "ipython",
    "version": 3
   },
   "file_extension": ".py",
   "mimetype": "text/x-python",
   "name": "python",
   "nbconvert_exporter": "python",
   "pygments_lexer": "ipython3",
   "version": "3.9.7"
  }
 },
 "nbformat": 4,
 "nbformat_minor": 5
}
