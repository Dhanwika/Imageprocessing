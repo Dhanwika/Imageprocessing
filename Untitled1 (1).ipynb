{
 "cells": [
  {
   "cell_type": "code",
   "execution_count": null,
   "id": "e59ba480",
   "metadata": {},
   "outputs": [],
   "source": [
    "name = 'Python'\n",
    "print(name)  "
   ]
  },
  {
   "cell_type": "code",
   "execution_count": null,
   "id": "879c8581",
   "metadata": {},
   "outputs": [],
   "source": [
    "a=100\n",
    "b=45.6\n",
    "c=\"Dhanwika\"\n",
    "d=-3j\n",
    "print(type(a))\n",
    "print(type(b))\n",
    "print(type(c))\n",
    "print(type(d))\n",
    "print(type(True))"
   ]
  },
  {
   "cell_type": "code",
   "execution_count": null,
   "id": "b8139c6a",
   "metadata": {},
   "outputs": [],
   "source": [
    "x = ('apple', 'banana', 'cherry')\n",
    "y = id(x)\n",
    "print(y)"
   ]
  },
  {
   "cell_type": "code",
   "execution_count": null,
   "id": "083d08e4",
   "metadata": {},
   "outputs": [],
   "source": [
    "str1 = \"geek\"\n",
    "print(id(str1))"
   ]
  },
  {
   "cell_type": "code",
   "execution_count": null,
   "id": "3b2d2eea",
   "metadata": {},
   "outputs": [],
   "source": [
    "# print first 5 integers\n",
    "# using python range() function\n",
    "for i in range(5):\n",
    "    print(i, end=\" \")\n",
    "print()"
   ]
  },
  {
   "cell_type": "code",
   "execution_count": null,
   "id": "089524c1",
   "metadata": {},
   "outputs": [],
   "source": [
    "# printing a natural\n",
    "# number from 5 to 20\n",
    "for i in range(5, 20):\n",
    "    print(i, end=\" \")"
   ]
  },
  {
   "cell_type": "code",
   "execution_count": null,
   "id": "2ac42a34",
   "metadata": {},
   "outputs": [],
   "source": [
    "for i in range(0, 10, 2):\n",
    "    print(i, end=\" \")\n",
    "print()"
   ]
  },
  {
   "cell_type": "code",
   "execution_count": null,
   "id": "3fa0bf87",
   "metadata": {},
   "outputs": [],
   "source": [
    "dec = 344\n",
    "print(\"The decimal value of\", dec, \"is:\")\n",
    "print(bin(dec), \"in binary.\")\n",
    "print(oct(dec), \"in octal.\")\n",
    "print(hex(dec), \"in hexadecimal.\")"
   ]
  },
  {
   "cell_type": "code",
   "execution_count": null,
   "id": "87183e7b",
   "metadata": {},
   "outputs": [],
   "source": [
    "n = 4\n",
    "binary = format(n, 'b')\n",
    "print(binary)  \n",
    "binary = '100'\n",
    "decimal = int(binary, 2)\n",
    "print(decimal)  "
   ]
  },
  {
   "cell_type": "code",
   "execution_count": null,
   "id": "bac56237",
   "metadata": {},
   "outputs": [],
   "source": [
    "x = 10\n",
    "  \n",
    "print(\"x is of type:\",type(x))\n",
    "  \n",
    "y = 10.6\n",
    "print(\"y is of type:\",type(y))\n",
    "  \n",
    "z = x + y\n",
    "  \n",
    "print(z)\n",
    "print(\"z is of type:\",type(z))"
   ]
  },
  {
   "cell_type": "code",
   "execution_count": null,
   "id": "e00228f3",
   "metadata": {},
   "outputs": [],
   "source": [
    "# Convert ASCII value to characters\n",
    "a = chr(90)\n",
    "b = chr(87)\n",
    "\n",
    "print(a)\n",
    "print(b)"
   ]
  },
  {
   "cell_type": "code",
   "execution_count": null,
   "id": "9c705932",
   "metadata": {},
   "outputs": [],
   "source": [
    "#ARITHMETIC OPERATORS EXAMPLES\n",
    "a = 7\n",
    "b = 2\n",
    "\n",
    "# addition\n",
    "print ('Sum: ', a + b)  \n",
    "\n",
    "# subtraction\n",
    "print ('Subtraction: ', a - b)   \n",
    "\n",
    "# multiplication\n",
    "print ('Multiplication: ', a * b)  \n",
    "\n",
    "# division\n",
    "print ('Division: ', a / b) \n",
    "\n",
    "# floor division\n",
    "print ('Floor Division: ', a // b)\n",
    "\n",
    "# modulo\n",
    "print ('Modulo: ', a % b)  \n",
    "\n",
    "# a to the power b\n",
    "print ('Power: ', a ** b)   "
   ]
  },
  {
   "cell_type": "code",
   "execution_count": null,
   "id": "61bbe99b",
   "metadata": {},
   "outputs": [],
   "source": [
    "#ASSIGNMENT OPERATORS\n",
    "# assign 10 to a\n",
    "a = 10\n",
    "\n",
    "# assign 5 to b\n",
    "b = 5 \n",
    "\n",
    "# assign the sum of a and b to a\n",
    "a %= b      # a = a + b\n",
    "\n",
    "print(a)"
   ]
  },
  {
   "cell_type": "code",
   "execution_count": null,
   "id": "6e224d83",
   "metadata": {},
   "outputs": [],
   "source": [
    "#RELATIONAL OPERATORS\n",
    "a = 5\n",
    "\n",
    "b = 2\n",
    "\n",
    "# equal to operator\n",
    "print('a == b =', a == b)\n",
    "\n",
    "# not equal to operator\n",
    "print('a != b =', a != b)\n",
    "\n",
    "# greater than operator\n",
    "print('a > b =', a > b)\n",
    "\n",
    "# less than operator\n",
    "print('a < b =', a < b)\n",
    "\n",
    "# greater than or equal to operator\n",
    "print('a >= b =', a >= b)\n",
    "\n",
    "# less than or equal to operator\n",
    "print('a <= b =', a <= b)"
   ]
  },
  {
   "cell_type": "code",
   "execution_count": null,
   "id": "acd2aaaa",
   "metadata": {},
   "outputs": [],
   "source": [
    "#LOGICAL OPERATORS\n",
    "# logical AND\n",
    "print(True and True)     # True\n",
    "print(True and False)    # False\n",
    "\n",
    "# logical OR\n",
    "print(True or False)     # True\n",
    "\n",
    "# logical NOT\n",
    "print(not True)          # False"
   ]
  },
  {
   "cell_type": "code",
   "execution_count": null,
   "id": "b64075dc",
   "metadata": {},
   "outputs": [],
   "source": [
    "#IDENTITY OPERATORS\n",
    "x1 = 5\n",
    "y1 = 5\n",
    "x2 = 'Hello'\n",
    "y2 = 'Hello'\n",
    "x3 = [1,2,3]\n",
    "y3 = [1,2,3]\n",
    "\n",
    "print(x1 is not y1)  # prints False\n",
    "\n",
    "print(x2 is y2)  # prints True\n",
    "\n",
    "print(x3 is y3)  # prints False"
   ]
  },
  {
   "cell_type": "code",
   "execution_count": null,
   "id": "c8f565e6",
   "metadata": {},
   "outputs": [],
   "source": [
    "#MEMBERSHIP OPERATORS\n",
    "x = 'Hello world'\n",
    "y = {1:'a', 2:'b'}\n",
    "\n",
    "# check if 'H' is present in x string\n",
    "print('H' in x)  # prints True\n",
    "\n",
    "# check if 'hello' is present in x string\n",
    "print('hello' not in x)  # prints True\n",
    "\n",
    "# check if '1' key is present in y\n",
    "print(1 in y)  # prints True\n",
    "\n",
    "# check if 'a' key is present in y\n",
    "print('a' in y)  # prints False"
   ]
  },
  {
   "cell_type": "code",
   "execution_count": null,
   "id": "ea6ea000",
   "metadata": {},
   "outputs": [],
   "source": [
    "#code for disabling the softspace feature\n",
    "print('A','B','C', sep='')\n",
    "\n",
    "#for formatting a date\n",
    "print('19','11','2020', sep='/')\n",
    "\n",
    "#another example\n",
    "print('abc','gmail', sep='#')"
   ]
  },
  {
   "cell_type": "code",
   "execution_count": null,
   "id": "785b2714",
   "metadata": {},
   "outputs": [],
   "source": [
    "print('HELLO',end=\"*****\")"
   ]
  },
  {
   "cell_type": "code",
   "execution_count": null,
   "id": "cbb338e0",
   "metadata": {},
   "outputs": [],
   "source": [
    "print('apple','mango','cherry',sep=\",\")"
   ]
  },
  {
   "cell_type": "code",
   "execution_count": null,
   "id": "d08aa489",
   "metadata": {},
   "outputs": [],
   "source": [
    "name=input(\"Enter your name:\")\n",
    "print(name)"
   ]
  },
  {
   "cell_type": "code",
   "execution_count": null,
   "id": "212215f3",
   "metadata": {},
   "outputs": [],
   "source": [
    "string = \"hello world\"\n",
    "print(string)\n",
    "print(string.replace(\"hello\",\"hi\"))"
   ]
  },
  {
   "cell_type": "code",
   "execution_count": null,
   "id": "d01639c4",
   "metadata": {},
   "outputs": [],
   "source": [
    "string = \"geeks for geeks \\ngeeks for geeks\"\n",
    "print(string)\n",
    "print(string.replace(\"geeks\", \"GeeksforGeeks\"))"
   ]
  },
  {
   "cell_type": "code",
   "execution_count": null,
   "id": "fa682aa3",
   "metadata": {},
   "outputs": [],
   "source": [
    "#CONDITIONAL STATEMENTS\n",
    "a=29\n",
    "b=32\n",
    "if(a<b):\n",
    "    print(\"b is greater than a\")"
   ]
  },
  {
   "cell_type": "code",
   "execution_count": null,
   "id": "dda5f235",
   "metadata": {},
   "outputs": [],
   "source": [
    "a=29\n",
    "b=32\n",
    "if(a>b):\n",
    "    print(\"a is greater than b\")\n",
    "else:\n",
    "    print(\"b is greater than a\")"
   ]
  },
  {
   "cell_type": "code",
   "execution_count": null,
   "id": "e6aed5b5",
   "metadata": {},
   "outputs": [],
   "source": [
    "a=29\n",
    "b=32\n",
    "if(a>b):\n",
    "    print(\"a is greater than b\")\n",
    "elif(a==b):\n",
    "    print(\"a and b are equal\")\n",
    "else:\n",
    "    print(\"b is greater thsn a\")"
   ]
  },
  {
   "cell_type": "code",
   "execution_count": null,
   "id": "5c74b49a",
   "metadata": {},
   "outputs": [],
   "source": [
    "languages = ['Swift', 'Python', 'Go', 'JavaScript']\n",
    "\n",
    "# access items of a list using for loop\n",
    "for language in languages:\n",
    "    print(language,end=\" \")"
   ]
  },
  {
   "cell_type": "code",
   "execution_count": null,
   "id": "edf4477b",
   "metadata": {},
   "outputs": [],
   "source": [
    "for i in range(10):\n",
    "    print(i,end=\" \")"
   ]
  },
  {
   "cell_type": "code",
   "execution_count": null,
   "id": "e07af2b2",
   "metadata": {},
   "outputs": [],
   "source": [
    "arr=[1,8,5,6,2,8,6]\n",
    "for i in arr:\n",
    "    print(i,end=\" \")"
   ]
  },
  {
   "cell_type": "code",
   "execution_count": null,
   "id": "18e2ce47",
   "metadata": {},
   "outputs": [],
   "source": [
    "#LOOP CONTROL STATEMENTS\n",
    "for i in range(10):\n",
    "    print(i,end=\" \")\n",
    "    if i == 7:\n",
    "        break"
   ]
  },
  {
   "cell_type": "code",
   "execution_count": null,
   "id": "eaa0d6c9",
   "metadata": {},
   "outputs": [],
   "source": [
    "# program to find first 5 multiples of 6\n",
    "\n",
    "i = 1\n",
    "\n",
    "while i <= 10:\n",
    "    print('6 * ',(i), '=',6 * i)\n",
    "\n",
    "    if i >= 5:\n",
    "        break\n",
    "    \n",
    "    i = i + 1"
   ]
  },
  {
   "cell_type": "code",
   "execution_count": null,
   "id": "a4646831",
   "metadata": {},
   "outputs": [],
   "source": [
    "for i in range(5,20,4):\n",
    "    print(i,end=\" \")"
   ]
  },
  {
   "cell_type": "code",
   "execution_count": null,
   "id": "be08bafe",
   "metadata": {},
   "outputs": [],
   "source": [
    "for i in range(5):\n",
    "    if i == 3:\n",
    "        continue\n",
    "    print(i,end=\" \")"
   ]
  },
  {
   "cell_type": "code",
   "execution_count": 1,
   "id": "885cb2ae",
   "metadata": {},
   "outputs": [
    {
     "name": "stdout",
     "output_type": "stream",
     "text": [
      "welcome\n"
     ]
    }
   ],
   "source": [
    "n=25\n",
    "if(n%2==0):\n",
    "    pass\n",
    "print(\"welcome\")"
   ]
  },
  {
   "cell_type": "code",
   "execution_count": null,
   "id": "77833b09",
   "metadata": {},
   "outputs": [],
   "source": []
  }
 ],
 "metadata": {
  "kernelspec": {
   "display_name": "Python 3 (ipykernel)",
   "language": "python",
   "name": "python3"
  },
  "language_info": {
   "codemirror_mode": {
    "name": "ipython",
    "version": 3
   },
   "file_extension": ".py",
   "mimetype": "text/x-python",
   "name": "python",
   "nbconvert_exporter": "python",
   "pygments_lexer": "ipython3",
   "version": "3.9.7"
  }
 },
 "nbformat": 4,
 "nbformat_minor": 5
}
