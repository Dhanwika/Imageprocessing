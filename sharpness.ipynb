{
 "cells": [
  {
   "cell_type": "code",
   "execution_count": 41,
   "id": "24110604",
   "metadata": {},
   "outputs": [],
   "source": [
    "#IMAGE MANIPULATION\n",
    "#INCREASING THE SHARPNESS\n",
    "import cv2\n",
    "import numpy as np\n",
    "image = cv2.imread('butterfly.jpg')\n",
    "# Create the sharpening kernel\n",
    "kernel = np.array([[-1,-1,-1], [-1,9,-1], [-1,-1,-1]])\n",
    "# Apply the sharpening kernel to the image using filter2D\n",
    "sharpened = cv2.filter2D(image, -1, kernel)\n",
    "cv2.imwrite('sharpened.jpg', sharpened)\n",
    "cv2.imshow('Required image',sharpened)\n",
    "cv2.waitKey(0)\n",
    "cv2.destroyAllWindows()"
   ]
  },
  {
   "cell_type": "code",
   "execution_count": 6,
   "id": "607ebb23",
   "metadata": {},
   "outputs": [],
   "source": [
    "#INCREASING THE SHARPNESS\n",
    "import cv2\n",
    "import numpy as np\n",
    "# load path of the image\n",
    "original_image=cv2.imread(\"img10.jfif\")\n",
    "cv2.imshow('original image',original_image)\n",
    "cv2.waitKey(0)\n",
    "# create a sharpening kernel\n",
    "sharpen_filter=np.array([[-1,-1,-1],\n",
    "                 [-1,9,-1],\n",
    "                [-1,-1,-1]])\n",
    "# applying kernels to the input image to get the sharpened image\n",
    "sharp_image=cv2.filter2D(original_image,-1,sharpen_filter)\n",
    "cv2.imshow('Required image',sharp_image)\n",
    "cv2.waitKey(0)\n",
    "cv2.destroyAllWindows()"
   ]
  },
  {
   "cell_type": "code",
   "execution_count": 46,
   "id": "d6082cc9",
   "metadata": {},
   "outputs": [],
   "source": [
    "#FLIPPING\n",
    "import cv2 \n",
    "originalImage = cv2.imread('photo.jfif')  \n",
    "flipVertical = cv2.flip(originalImage, 0)\n",
    "flipHorizontal = cv2.flip(originalImage, 1)\n",
    "flipBoth = cv2.flip(originalImage, -1)\n",
    "cv2.imshow('Original image', originalImage)\n",
    "cv2.imshow('Flipped vertical image', flipVertical)\n",
    "cv2.imshow('Flipped horizontal image', flipHorizontal)\n",
    "cv2.imshow('Flipped both image', flipBoth) \n",
    "cv2.waitKey(0)\n",
    "cv2.destroyAllWindows()"
   ]
  },
  {
   "cell_type": "code",
   "execution_count": 40,
   "id": "65b1edb8",
   "metadata": {},
   "outputs": [],
   "source": [
    "import cv2\n",
    "import numpy as np\n",
    "image = cv2.imread('photo.jfif')\n",
    "# Create the sharpening kernel\n",
    "kernel = np.array([[0,-1,0], [-1,5,-1], [0,-1,0]])\n",
    "# Apply the sharpening kernel to the image using filter2D\n",
    "sharpened = cv2.filter2D(image, -1, kernel)\n",
    "cv2.imwrite('sharpened.jpg', sharpened)\n",
    "cv2.imshow('k',image)\n",
    "cv2.imshow('Required image',sharpened)\n",
    "cv2.waitKey(0)\n",
    "cv2.destroyAllWindows()"
   ]
  },
  {
   "cell_type": "code",
   "execution_count": 43,
   "id": "a4d49d04",
   "metadata": {},
   "outputs": [],
   "source": [
    "import cv2\n",
    "import numpy as np\n",
    "image = cv2.imread('photo.jfif')\n",
    "# Create the sharpening kernel\n",
    "kernel = np.array([[0,0,0], [0,1,0], [0,0,0]])\n",
    "# Apply the sharpening kernel to the image using filter2D\n",
    "sharpened = cv2.filter2D(image, -1, kernel)\n",
    "cv2.imwrite('sharpened.jpg', sharpened)\n",
    "cv2.imshow('Original Image',image)\n",
    "cv2.imshow('Required image',sharpened)\n",
    "cv2.waitKey(0)\n",
    "cv2.destroyAllWindows()"
   ]
  },
  {
   "cell_type": "code",
   "execution_count": null,
   "id": "51ed9019",
   "metadata": {},
   "outputs": [],
   "source": []
  }
 ],
 "metadata": {
  "kernelspec": {
   "display_name": "Python 3 (ipykernel)",
   "language": "python",
   "name": "python3"
  },
  "language_info": {
   "codemirror_mode": {
    "name": "ipython",
    "version": 3
   },
   "file_extension": ".py",
   "mimetype": "text/x-python",
   "name": "python",
   "nbconvert_exporter": "python",
   "pygments_lexer": "ipython3",
   "version": "3.9.7"
  }
 },
 "nbformat": 4,
 "nbformat_minor": 5
}
